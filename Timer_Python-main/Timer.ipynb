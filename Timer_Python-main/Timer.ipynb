{
  "nbformat": 4,
  "nbformat_minor": 0,
  "metadata": {
    "colab": {
      "provenance": []
    },
    "kernelspec": {
      "name": "python3",
      "display_name": "Python 3"
    },
    "language_info": {
      "name": "python"
    }
  },
  "cells": [
    {
      "cell_type": "code",
      "source": [
        "# importing time library to get local time and counting time in second\n",
        "import time"
      ],
      "metadata": {
        "id": "jBIolFgKFhWq"
      },
      "execution_count": null,
      "outputs": []
    },
    {
      "cell_type": "code",
      "source": [
        "class ANSI():\n",
        "    def background(code):\n",
        "        return \"\\33[{code}m\".format(code=code)\n",
        "\n",
        "    def style_text(code):\n",
        "        return \"\\33[{code}m\".format(code=code)\n",
        "\n",
        "    def color_text(code):\n",
        "        return \"\\33[{code}m\".format(code=code)\n",
        "\n",
        "\n",
        "ansi_cyan = ANSI.background(0) + ANSI.color_text(49) + ANSI.style_text(36) #cyan\n",
        "ansi_blue = ANSI.background(0) + ANSI.color_text(49) + ANSI.style_text(34) #blue\n",
        "ansi_purple = ANSI.background(0) + ANSI.color_text(49) + ANSI.style_text(35) #purple\n",
        "ansi_green = ANSI.background(0) + ANSI.color_text(49) + ANSI.style_text(32) #green\n",
        "ansi_red = ANSI.background(0) + ANSI.color_text(49) + ANSI.style_text(91) #red"
      ],
      "metadata": {
        "id": "ox_OGISDZdUC"
      },
      "execution_count": 83,
      "outputs": []
    },
    {
      "cell_type": "code",
      "execution_count": 84,
      "metadata": {
        "colab": {
          "base_uri": "https://localhost:8080/"
        },
        "id": "Rpm9erCJ5SqH",
        "outputId": "d0731675-aaf7-4a00-a438-b61946addd1c"
      },
      "outputs": [
        {
          "output_type": "stream",
          "name": "stdout",
          "text": [
            "\u001b[0m\u001b[49m\u001b[35mChoice    Task      Time(Sec)\n",
            "\u001b[0m\u001b[49m\u001b[32m0         \u001b[0m\u001b[49m\u001b[32mCancel    \u001b[0m\u001b[49m\u001b[32m00:00:00\n",
            "\u001b[0m\u001b[49m\u001b[32m1         \u001b[0m\u001b[49m\u001b[32mBrush     \u001b[0m\u001b[49m\u001b[32m00:02:00\n",
            "\u001b[0m\u001b[49m\u001b[32m2         \u001b[0m\u001b[49m\u001b[32mBreakfast \u001b[0m\u001b[49m\u001b[32m00:15:00\n",
            "\u001b[0m\u001b[49m\u001b[32m3         \u001b[0m\u001b[49m\u001b[32mTest      \u001b[0m\u001b[49m\u001b[32m00:00:03\n",
            "\u001b[0m\u001b[49m\u001b[35mSelect choice(0/1...) : 3\n",
            "Times up! Test\n",
            "\u001b[0m\u001b[49m\u001b[35mEnter choice (1.Continue  2.Exit) : 2\n",
            "\u001b[0m\u001b[49m\u001b[36mThank you!\n"
          ]
        }
      ],
      "source": [
        "'''\n",
        "This is a timer. We can fix time here and get notification after that time.\n",
        "'''\n",
        "cnt = 1\n",
        "while cnt == 1 :\n",
        "  '''Here we create a dictoinary which have some data that can be choosen by user.'''\n",
        "  initial = {\n",
        "      \"Cancel\" : \"00:00:00\" ,\n",
        "      \"Brush\" : \"00:02:00\" ,\n",
        "      \"Breakfast\" :  \"00:15:00\" ,\n",
        "      \"Test\" : \"00:00:03\"\n",
        "  }\n",
        "\n",
        "  print(ansi_purple + \"Choice    Task      Time\")\n",
        "  for i in range(len(initial)) :\n",
        "    print(ansi_green + str(i) , (\" \" * 8) ,end = \"\")\n",
        "    print(ansi_green + list(initial)[i] , (\" \" * (9 -len(list(initial)[i]))) , end = \"\")\n",
        "    print(ansi_green + list(initial.values())[i] )\n",
        "\n",
        "  '''Take input that user choice what we have or make a new choice.'''\n",
        "  print(ansi_purple + \"Select choice(0/1...) : \" , end = \"\")\n",
        "  initial_input = int(input())\n",
        "\n",
        "  if initial_input == 0 :\n",
        "    '''That's user making a new choice with message and set time.'''\n",
        "    message = input(\"Enter your message : \")\n",
        "    hr , min , sec = map(int , input(ansi_purple + \"Enter time(hr:min:sec) : \").split(\":\"))\n",
        "    time_ = (hr * 3600) + (min * 60) + sec\n",
        "\n",
        "  else :\n",
        "    '''That's user making choice from our selective choice.'''\n",
        "    message = list(initial)[initial_input]\n",
        "    hr , min , sec = map(int , list(initial.values())[initial_input].split(\":\"))\n",
        "    time_ = (hr * 3600) + (min * 60) + sec\n",
        "\n",
        "  '''Showing user time count and after time count show message.'''\n",
        "  for i in range(time_ , 0 , -1) :\n",
        "    sec = i % 60\n",
        "    min = int(i / 60) % 60\n",
        "    hr = int(i / 3600)\n",
        "    print(ansi_blue + f\"\\r{hr:02}:{min:02}:{sec:02}\" , end = \"\")\n",
        "    time.sleep(1)\n",
        "  print(ansi_blue + f\"\\rTimes up! {message}\" , end = \"\")\n",
        "  time.sleep(1)\n",
        "  print()\n",
        "  print(ansi_purple + \"Enter choice (1.Continue  2.Exit) : \" , end = \"\")\n",
        "  cnt = int(input())\n",
        "print(ansi_cyan + \"Thank you!\")\n",
        "time.sleep(2)"
      ]
    },
    {
      "cell_type": "code",
      "source": [
        "initial = {\n",
        "    \"none\" : 0 ,\n",
        "    \"brush\" : 120 ,\n",
        "    \"breakfast\" : (15 * 60)\n",
        "}\n",
        "\n",
        "for i in range(len(initial)) :\n",
        "  print(list(initial)[i] , list(initial.values())[i])"
      ],
      "metadata": {
        "id": "0tn7WwBA-YaE"
      },
      "execution_count": null,
      "outputs": []
    },
    {
      "cell_type": "code",
      "source": [
        "class ANSI():\n",
        "    def background(code):\n",
        "        return \"\\33[{code}m\".format(code=code)\n",
        "\n",
        "    def style_text(code):\n",
        "        return \"\\33[{code}m\".format(code=code)\n",
        "\n",
        "    def color_text(code):\n",
        "        return \"\\33[{code}m\".format(code=code)\n",
        "\n",
        "\n",
        "example_ansi = ANSI.background(\n",
        "    0) + ANSI.color_text(49) + ANSI.style_text(36)\n",
        "print(example_ansi + list(initial)[i] , (\" \" * (9 -len(list(initial)[i]))) , end = \"\")\n"
      ],
      "metadata": {
        "colab": {
          "base_uri": "https://localhost:8080/"
        },
        "id": "NFrVXKPsXjyd",
        "outputId": "c91a2ec9-d636-4e34-92b9-f1a91454e241"
      },
      "execution_count": null,
      "outputs": [
        {
          "output_type": "stream",
          "name": "stdout",
          "text": [
            "\u001b[0m\u001b[49m\u001b[36mBrush     "
          ]
        }
      ]
    },
    {
      "cell_type": "code",
      "source": [
        "'''\n",
        "This is a timer. We can fix time here and get notification after that time.\n",
        "'''\n",
        "\n",
        "'''importing time library to get local time and counting time in second'''\n",
        "import time\n",
        "'''\n",
        "Colour class\n",
        "class ANSI():\n",
        "    def background(code):\n",
        "        return \"\\33[{code}m\".format(code=code)\n",
        "\n",
        "    def style_text(code):\n",
        "        return \"\\33[{code}m\".format(code=code)\n",
        "\n",
        "    def color_text(code):\n",
        "        return \"\\33[{code}m\".format(code=code)\n",
        "\n",
        "\n",
        "ansi_cyan = ANSI.background(0) + ANSI.color_text(49) + ANSI.style_text(36) #cyan\n",
        "ansi_blue = ANSI.background(0) + ANSI.color_text(49) + ANSI.style_text(34) #blue\n",
        "ansi_purple = ANSI.background(0) + ANSI.color_text(49) + ANSI.style_text(35) #purple\n",
        "ansi_green = ANSI.background(0) + ANSI.color_text(49) + ANSI.style_text(32) #green\n",
        "ansi_red = ANSI.background(0) + ANSI.color_text(49) + ANSI.style_text(91) #red\n",
        "'''\n",
        "\n",
        "'''Code start from here'''\n",
        "cnt = 1\n",
        "while cnt == 1 :\n",
        "  '''Here we create a dictoinary which have some data that can be choosen by user.'''\n",
        "  initial = {\n",
        "      \"Cancel\" : \"00:00:00\" ,\n",
        "      \"Brush\" : \"00:02:00\" ,\n",
        "      \"Breakfast\" :  \"00:15:00\" ,\n",
        "      \"Test\" : \"00:00:03\"\n",
        "  }\n",
        "\n",
        "  print(\"Choice    Task      Time\")\n",
        "  for i in range(len(initial)) :\n",
        "    print(i , (\" \" * 8) ,end = \"\")\n",
        "    print(list(initial)[i] , (\" \" * (9 -len(list(initial)[i]))) , end = \"\")\n",
        "    print(list(initial.values())[i] )\n",
        "\n",
        "  '''Take input that user choice what we have or make a new choice.'''\n",
        "  initial_input = int(input(\"Select choice(0/1...) : \"))\n",
        "\n",
        "  if initial_input == 0 :\n",
        "    '''That's user making a new choice with message and set time.'''\n",
        "    message = input(\"Enter your message : \")\n",
        "    hr , min , sec = map(int , input(\"Enter time(hr:min:sec) : \").split(\":\"))\n",
        "    time_ = (hr * 3600) + (min * 60) + sec\n",
        "\n",
        "  else :\n",
        "    '''That's user making choice from our selective choice.'''\n",
        "    message = list(initial)[initial_input]\n",
        "    hr , min , sec = map(int , list(initial.values())[initial_input].split(\":\"))\n",
        "    time_ = (hr * 3600) + (min * 60) + sec\n",
        "\n",
        "  '''Showing user time count and after time count show message.'''\n",
        "  for i in range(time_ , 0 , -1) :\n",
        "    sec = i % 60\n",
        "    min = int(i / 60) % 60\n",
        "    hr = int(i / 3600)\n",
        "    print(f\"\\r{hr:02}:{min:02}:{sec:02}\" , end = \"\")\n",
        "    time.sleep(1)\n",
        "  print(f\"\\rTimes up! {message}\" , end = \"\")\n",
        "  time.sleep(1)\n",
        "  print()\n",
        "  cnt = int(input(\"Enter choice (1.Continue  2.Exit) : \"))\n",
        "print(\"Thank you!\")\n",
        "time.sleep(2)"
      ],
      "metadata": {
        "colab": {
          "base_uri": "https://localhost:8080/"
        },
        "id": "ulS7ejtmhBmv",
        "outputId": "9f96ec04-c1cf-4641-f826-3db8fa6435fa"
      },
      "execution_count": 87,
      "outputs": [
        {
          "output_type": "stream",
          "name": "stdout",
          "text": [
            "Choice    Task      Time\n",
            "0         Cancel    00:00:00\n",
            "1         Brush     00:02:00\n",
            "2         Breakfast 00:15:00\n",
            "3         Test      00:00:03\n",
            "Select choice(0/1...) : 3\n",
            "Times up! Test\n",
            "Enter choice (1.Continue  2.Exit) : \n",
            "2\n",
            "Thank you!\n"
          ]
        }
      ]
    }
  ]
}